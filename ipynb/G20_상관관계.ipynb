{
 "cells": [
  {
   "cell_type": "markdown",
   "id": "237e9bc0-2714-40d0-a326-f45fe2a4a7f5",
   "metadata": {},
   "source": [
    "## G20 국가별 최저시급과 1인당 GDP 상관관계"
   ]
  },
  {
   "cell_type": "code",
   "execution_count": 13,
   "id": "b840a69b",
   "metadata": {},
   "outputs": [
    {
     "data": {
      "text/html": [
       "<div>\n",
       "<style scoped>\n",
       "    .dataframe tbody tr th:only-of-type {\n",
       "        vertical-align: middle;\n",
       "    }\n",
       "\n",
       "    .dataframe tbody tr th {\n",
       "        vertical-align: top;\n",
       "    }\n",
       "\n",
       "    .dataframe thead th {\n",
       "        text-align: right;\n",
       "    }\n",
       "</style>\n",
       "<table border=\"1\" class=\"dataframe\">\n",
       "  <thead>\n",
       "    <tr style=\"text-align: right;\">\n",
       "      <th></th>\n",
       "      <th>국가</th>\n",
       "      <th>최저시급</th>\n",
       "      <th>GDP</th>\n",
       "    </tr>\n",
       "  </thead>\n",
       "  <tbody>\n",
       "    <tr>\n",
       "      <th>0</th>\n",
       "      <td>아르헨티나</td>\n",
       "      <td>12.217667</td>\n",
       "      <td>12391</td>\n",
       "    </tr>\n",
       "    <tr>\n",
       "      <th>1</th>\n",
       "      <td>호주</td>\n",
       "      <td>112.592000</td>\n",
       "      <td>58780</td>\n",
       "    </tr>\n",
       "    <tr>\n",
       "      <th>2</th>\n",
       "      <td>브라질</td>\n",
       "      <td>7.550667</td>\n",
       "      <td>8551</td>\n",
       "    </tr>\n",
       "    <tr>\n",
       "      <th>3</th>\n",
       "      <td>캐나다</td>\n",
       "      <td>12.049700</td>\n",
       "      <td>43946</td>\n",
       "    </tr>\n",
       "    <tr>\n",
       "      <th>4</th>\n",
       "      <td>중국</td>\n",
       "      <td>12.760000</td>\n",
       "      <td>11188</td>\n",
       "    </tr>\n",
       "    <tr>\n",
       "      <th>5</th>\n",
       "      <td>프랑스</td>\n",
       "      <td>55.680000</td>\n",
       "      <td>38210</td>\n",
       "    </tr>\n",
       "    <tr>\n",
       "      <th>6</th>\n",
       "      <td>독일</td>\n",
       "      <td>12.176400</td>\n",
       "      <td>42527</td>\n",
       "    </tr>\n",
       "    <tr>\n",
       "      <th>7</th>\n",
       "      <td>인도</td>\n",
       "      <td>0.318371</td>\n",
       "      <td>1961</td>\n",
       "    </tr>\n",
       "    <tr>\n",
       "      <th>8</th>\n",
       "      <td>인도네시아</td>\n",
       "      <td>10.302333</td>\n",
       "      <td>3856</td>\n",
       "    </tr>\n",
       "    <tr>\n",
       "      <th>9</th>\n",
       "      <td>일본</td>\n",
       "      <td>6.790900</td>\n",
       "      <td>35278</td>\n",
       "    </tr>\n",
       "    <tr>\n",
       "      <th>10</th>\n",
       "      <td>멕시코</td>\n",
       "      <td>1.209271</td>\n",
       "      <td>9255</td>\n",
       "    </tr>\n",
       "    <tr>\n",
       "      <th>11</th>\n",
       "      <td>네덜란드</td>\n",
       "      <td>59.400000</td>\n",
       "      <td>48424</td>\n",
       "    </tr>\n",
       "    <tr>\n",
       "      <th>12</th>\n",
       "      <td>러시아</td>\n",
       "      <td>8.413667</td>\n",
       "      <td>10220</td>\n",
       "    </tr>\n",
       "    <tr>\n",
       "      <th>13</th>\n",
       "      <td>남아프리카 공화국</td>\n",
       "      <td>1.372380</td>\n",
       "      <td>5865</td>\n",
       "    </tr>\n",
       "    <tr>\n",
       "      <th>14</th>\n",
       "      <td>대한민국</td>\n",
       "      <td>6.970800</td>\n",
       "      <td>32645</td>\n",
       "    </tr>\n",
       "    <tr>\n",
       "      <th>15</th>\n",
       "      <td>스페인</td>\n",
       "      <td>38.090000</td>\n",
       "      <td>26239</td>\n",
       "    </tr>\n",
       "    <tr>\n",
       "      <th>16</th>\n",
       "      <td>터키</td>\n",
       "      <td>9.348333</td>\n",
       "      <td>13251</td>\n",
       "    </tr>\n",
       "    <tr>\n",
       "      <th>17</th>\n",
       "      <td>연합 왕국</td>\n",
       "      <td>11.451300</td>\n",
       "      <td>46209</td>\n",
       "    </tr>\n",
       "    <tr>\n",
       "      <th>18</th>\n",
       "      <td>미국</td>\n",
       "      <td>7.250000</td>\n",
       "      <td>61280</td>\n",
       "    </tr>\n",
       "  </tbody>\n",
       "</table>\n",
       "</div>"
      ],
      "text/plain": [
       "           국가        최저시급    GDP\n",
       "0       아르헨티나   12.217667  12391\n",
       "1          호주  112.592000  58780\n",
       "2         브라질    7.550667   8551\n",
       "3         캐나다   12.049700  43946\n",
       "4          중국   12.760000  11188\n",
       "5         프랑스   55.680000  38210\n",
       "6          독일   12.176400  42527\n",
       "7          인도    0.318371   1961\n",
       "8       인도네시아   10.302333   3856\n",
       "9          일본    6.790900  35278\n",
       "10        멕시코    1.209271   9255\n",
       "11       네덜란드   59.400000  48424\n",
       "12        러시아    8.413667  10220\n",
       "13  남아프리카 공화국    1.372380   5865\n",
       "14       대한민국    6.970800  32645\n",
       "15        스페인   38.090000  26239\n",
       "16         터키    9.348333  13251\n",
       "17      연합 왕국   11.451300  46209\n",
       "18         미국    7.250000  61280"
      ]
     },
     "execution_count": 13,
     "metadata": {},
     "output_type": "execute_result"
    }
   ],
   "source": [
    "import pandas as pd\n",
    "df = pd.read_csv('./merge_df.csv')\n",
    "df"
   ]
  },
  {
   "cell_type": "code",
   "execution_count": 14,
   "id": "7e36ceb3-c9c4-4924-bec2-bfdabbda6196",
   "metadata": {},
   "outputs": [],
   "source": [
    "import numpy as np\n",
    "import matplotlib.pyplot as plt"
   ]
  },
  {
   "cell_type": "code",
   "execution_count": 17,
   "id": "925262ac-3fd6-43db-867f-b3110d1171b8",
   "metadata": {},
   "outputs": [
    {
     "data": {
      "image/png": "[encoded data removed]",
      "text/plain": [
       "<Figure size 720x720 with 1 Axes>"
      ]
     },
     "metadata": {
      "needs_background": "light"
     },
     "output_type": "display_data"
    }
   ],
   "source": [
    "plt.figure(figsize=(10, 10))      \n",
    "plt.rc('font', family = 'Malgun Gothic', size = 18)\n",
    "plt.scatter(df['최저시급'], df['GDP'], marker='o',) \n",
    "plt.xlabel(\"최저시급\")                \n",
    "plt.ylabel(\"GDP\")                  \n",
    "plt.grid()                       \n",
    "plt.show()  "
   ]
  },
  {
   "cell_type": "code",
   "execution_count": 8,
   "id": "7397f8bb-cca5-423c-8f42-6f005c291377",
   "metadata": {
    "scrolled": true
   },
   "outputs": [
    {
     "data": {
      "text/plain": [
       "<seaborn.axisgrid.PairGrid at 0x268e2010ee0>"
      ]
     },
     "execution_count": 8,
     "metadata": {},
     "output_type": "execute_result"
    },
    {
     "data": {
      "image/png": "[encoded data removed]",
      "text/plain": [
       "<Figure size 576x576 with 6 Axes>"
      ]
     },
     "metadata": {
      "needs_background": "light"
     },
     "output_type": "display_data"
    }
   ],
   "source": [
    "import seaborn as sns\n",
    "sns.pairplot(df, kind='reg', height=4)"
   ]
  },
  {
   "cell_type": "code",
   "execution_count": 9,
   "id": "dca4b889-cd88-4324-ab3d-822cb3d1fe6c",
   "metadata": {},
   "outputs": [
    {
     "data": {
      "text/html": [
       "<div>\n",
       "<style scoped>\n",
       "    .dataframe tbody tr th:only-of-type {\n",
       "        vertical-align: middle;\n",
       "    }\n",
       "\n",
       "    .dataframe tbody tr th {\n",
       "        vertical-align: top;\n",
       "    }\n",
       "\n",
       "    .dataframe thead th {\n",
       "        text-align: right;\n",
       "    }\n",
       "</style>\n",
       "<table border=\"1\" class=\"dataframe\">\n",
       "  <thead>\n",
       "    <tr style=\"text-align: right;\">\n",
       "      <th></th>\n",
       "      <th>최저시급</th>\n",
       "      <th>GDP</th>\n",
       "    </tr>\n",
       "  </thead>\n",
       "  <tbody>\n",
       "    <tr>\n",
       "      <th>최저시급</th>\n",
       "      <td>1.000000</td>\n",
       "      <td>0.542007</td>\n",
       "    </tr>\n",
       "    <tr>\n",
       "      <th>GDP</th>\n",
       "      <td>0.542007</td>\n",
       "      <td>1.000000</td>\n",
       "    </tr>\n",
       "  </tbody>\n",
       "</table>\n",
       "</div>"
      ],
      "text/plain": [
       "          최저시급       GDP\n",
       "최저시급  1.000000  0.542007\n",
       "GDP   0.542007  1.000000"
      ]
     },
     "execution_count": 9,
     "metadata": {},
     "output_type": "execute_result"
    }
   ],
   "source": [
    "df.corr(method='pearson')"
   ]
  },
  {
   "cell_type": "code",
   "execution_count": 10,
   "id": "f40a704e-0e4a-4e33-8a5e-e37064f31910",
   "metadata": {},
   "outputs": [
    {
     "data": {
      "text/html": [
       "<div>\n",
       "<style scoped>\n",
       "    .dataframe tbody tr th:only-of-type {\n",
       "        vertical-align: middle;\n",
       "    }\n",
       "\n",
       "    .dataframe tbody tr th {\n",
       "        vertical-align: top;\n",
       "    }\n",
       "\n",
       "    .dataframe thead th {\n",
       "        text-align: right;\n",
       "    }\n",
       "</style>\n",
       "<table border=\"1\" class=\"dataframe\">\n",
       "  <thead>\n",
       "    <tr style=\"text-align: right;\">\n",
       "      <th></th>\n",
       "      <th>최저시급</th>\n",
       "      <th>GDP</th>\n",
       "    </tr>\n",
       "  </thead>\n",
       "  <tbody>\n",
       "    <tr>\n",
       "      <th>최저시급</th>\n",
       "      <td>1.000000</td>\n",
       "      <td>0.522807</td>\n",
       "    </tr>\n",
       "    <tr>\n",
       "      <th>GDP</th>\n",
       "      <td>0.522807</td>\n",
       "      <td>1.000000</td>\n",
       "    </tr>\n",
       "  </tbody>\n",
       "</table>\n",
       "</div>"
      ],
      "text/plain": [
       "          최저시급       GDP\n",
       "최저시급  1.000000  0.522807\n",
       "GDP   0.522807  1.000000"
      ]
     },
     "execution_count": 10,
     "metadata": {},
     "output_type": "execute_result"
    }
   ],
   "source": [
    "df.corr(method='spearman')"
   ]
  },
  {
   "cell_type": "code",
   "execution_count": 11,
   "id": "931c3d32",
   "metadata": {},
   "outputs": [
    {
     "data": {
      "text/plain": [
       "(0.5420068728774652, 0.016520401925758564)"
      ]
     },
     "execution_count": 11,
     "metadata": {},
     "output_type": "execute_result"
    }
   ],
   "source": [
    "import scipy.stats as stats\n",
    "#from scipy.stats import pearsonr\n",
    "\n",
    "# 피어슨 상관계수 검정\n",
    "stats.pearsonr(df['최저시급'], df['GDP'])"
   ]
  },
  {
   "cell_type": "markdown",
   "id": "3f2d97a5-9e07-43e9-a23c-a969f29eb075",
   "metadata": {},
   "source": [
    "- 피어슨 상관계수가 0.54, p-value가 0.01이므로 귀무가설 기각\n",
    "- 두 변수(최저시급, GDP) 간 상관관계가 있다고 할 수 있다"
   ]
  },
  {
   "cell_type": "code",
   "execution_count": null,
   "id": "5b0e517a",
   "metadata": {},
   "outputs": [],
   "source": []
  }
 ],
 "metadata": {
  "kernelspec": {
   "display_name": "Python 3 (ipykernel)",
   "language": "python",
   "name": "python3"
  },
  "language_info": {
   "codemirror_mode": {
    "name": "ipython",
    "version": 3
   },
   "file_extension": ".py",
   "mimetype": "text/x-python",
   "name": "python",
   "nbconvert_exporter": "python",
   "pygments_lexer": "ipython3",
   "version": "3.9.12"
  },
  "toc": {
   "base_numbering": 1,
   "nav_menu": {},
   "number_sections": true,
   "sideBar": true,
   "skip_h1_title": false,
   "title_cell": "Table of Contents",
   "title_sidebar": "Contents",
   "toc_cell": false,
   "toc_position": {},
   "toc_section_display": true,
   "toc_window_display": false
  }
 },
 "nbformat": 4,
 "nbformat_minor": 5
}
