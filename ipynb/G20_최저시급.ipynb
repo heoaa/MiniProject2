{
 "cells": [
  {
   "cell_type": "markdown",
   "id": "c8bb50e2-5648-4ba4-83e4-7b33875c6c86",
   "metadata": {},
   "source": [
    "## G20 국가별 최저시급 크롤링, 데이터 저장"
   ]
  },
  {
   "cell_type": "code",
   "execution_count": 1,
   "id": "b2451d12-e581-4967-a586-873807e2f176",
   "metadata": {},
   "outputs": [],
   "source": [
    "import pandas as pd\n",
    "from bs4 import BeautifulSoup as bs\n",
    "import requests"
   ]
  },
  {
   "cell_type": "code",
   "execution_count": 2,
   "id": "0fe06048-7184-4fca-8d1a-f2f5d53a765b",
   "metadata": {},
   "outputs": [],
   "source": [
    "from selenium import webdriver"
   ]
  },
  {
   "cell_type": "code",
   "execution_count": 3,
   "id": "931509fe-2617-44b0-bfdf-2e560cbb9586",
   "metadata": {},
   "outputs": [
    {
     "name": "stderr",
     "output_type": "stream",
     "text": [
      "C:\\Users\\admin\\AppData\\Local\\Temp\\ipykernel_8092\\2421840669.py:1: DeprecationWarning: executable_path has been deprecated, please pass in a Service object\n",
      "  driver = webdriver.Chrome('C:/ChromeDriver_exe/chromedriver_102.exe')\n"
     ]
    }
   ],
   "source": [
    "driver = webdriver.Chrome('C:/ChromeDriver_exe/chromedriver_102.exe')"
   ]
  },
  {
   "cell_type": "code",
   "execution_count": 4,
   "id": "dd1b9677-44cb-4c07-ba29-30840f2333cd",
   "metadata": {},
   "outputs": [],
   "source": [
    "# driver = webdriver.Chrome('C:/chromedriver.exe')"
   ]
  },
  {
   "cell_type": "code",
   "execution_count": 5,
   "id": "aafde0a0-33f3-47ac-b5f6-27af3be6aab9",
   "metadata": {},
   "outputs": [],
   "source": [
    "url = 'https://ko.tradingeconomics.com/country-list/minimum-wages?continent=g20'\n",
    "driver.get(url)\n",
    "html = driver.page_source"
   ]
  },
  {
   "cell_type": "code",
   "execution_count": 6,
   "id": "ad15facc-c4c2-423b-986f-944580479660",
   "metadata": {},
   "outputs": [],
   "source": [
    "soup = bs(html, 'html.parser')"
   ]
  },
  {
   "cell_type": "code",
   "execution_count": 7,
   "id": "8f46b125-859d-4c92-bc0c-a30a2e3253e2",
   "metadata": {},
   "outputs": [
    {
     "data": {
      "text/plain": [
       "[<th style=\"cursor: pointer\">국가</th>,\n",
       " <th data-heatmap=\"0\" data-heatmap-limit=\"19\" data-sortable=\"true\" style=\"cursor: pointer\">마지막 </th>,\n",
       " <th data-sortable=\"true\" style=\"cursor: pointer\">이전 </th>,\n",
       " <th class=\"hidden-xs\" style=\"cursor: pointer\">참고</th>,\n",
       " <th class=\"hidden-sm hidden-xs\" data-sortable=\"false\"> 단위</th>]"
      ]
     },
     "execution_count": 7,
     "metadata": {},
     "output_type": "execute_result"
    }
   ],
   "source": [
    "th = soup.select('div.table-responsive tr th')\n",
    "th"
   ]
  },
  {
   "cell_type": "code",
   "execution_count": 8,
   "id": "6eb4c33a-fe49-4750-848f-ee8f7b134d3f",
   "metadata": {},
   "outputs": [
    {
     "data": {
      "text/plain": [
       "['국가', '마지막 ', '이전 ', '참고', ' 단위']"
      ]
     },
     "execution_count": 8,
     "metadata": {},
     "output_type": "execute_result"
    }
   ],
   "source": [
    "columus = []\n",
    "for i in range(len(th)) :\n",
    "    columus.append(th[i].text)\n",
    "columus"
   ]
  },
  {
   "cell_type": "code",
   "execution_count": 9,
   "id": "8d010020-03b7-473b-a833-3aeadd6e71b4",
   "metadata": {},
   "outputs": [],
   "source": [
    "td = soup.select('div.table-responsive tbody tr td')"
   ]
  },
  {
   "cell_type": "code",
   "execution_count": 10,
   "id": "ff1df7ce-6d88-469c-b031-23bd57f6c8cd",
   "metadata": {},
   "outputs": [],
   "source": [
    "df = pd.DataFrame(columns=['국가','이전','현재','단위'])\n",
    "contry_list =[]\n",
    "before_list =[]\n",
    "after_list =[]\n",
    "unit_list =[]\n",
    "\n",
    "for i in range(0,len(td),5):\n",
    "    contry_list.append(td[i].text.strip())\n",
    "    before_list.append(td[i+2].text.strip())\n",
    "    after_list.append(td[i+1].text.strip())\n",
    "    unit_list.append(td[i+4].text.strip())\n",
    "df['국가'] = contry_list\n",
    "df['이전'] = before_list\n",
    "df['현재'] = after_list\n",
    "df['단위'] = unit_list"
   ]
  },
  {
   "cell_type": "code",
   "execution_count": 11,
   "id": "74d1dd2d-efc2-4f66-9846-bae09703ffc3",
   "metadata": {},
   "outputs": [
    {
     "data": {
      "text/html": [
       "<div>\n",
       "<style scoped>\n",
       "    .dataframe tbody tr th:only-of-type {\n",
       "        vertical-align: middle;\n",
       "    }\n",
       "\n",
       "    .dataframe tbody tr th {\n",
       "        vertical-align: top;\n",
       "    }\n",
       "\n",
       "    .dataframe thead th {\n",
       "        text-align: right;\n",
       "    }\n",
       "</style>\n",
       "<table border=\"1\" class=\"dataframe\">\n",
       "  <thead>\n",
       "    <tr style=\"text-align: right;\">\n",
       "      <th></th>\n",
       "      <th>국가</th>\n",
       "      <th>이전</th>\n",
       "      <th>현재</th>\n",
       "      <th>단위</th>\n",
       "    </tr>\n",
       "  </thead>\n",
       "  <tbody>\n",
       "    <tr>\n",
       "      <th>0</th>\n",
       "      <td>아르헨티나</td>\n",
       "      <td>45450</td>\n",
       "      <td>47850</td>\n",
       "      <td>ARS / 월</td>\n",
       "    </tr>\n",
       "    <tr>\n",
       "      <th>1</th>\n",
       "      <td>호주</td>\n",
       "      <td>773</td>\n",
       "      <td>812</td>\n",
       "      <td>AUD / 주</td>\n",
       "    </tr>\n",
       "    <tr>\n",
       "      <th>2</th>\n",
       "      <td>브라질</td>\n",
       "      <td>1212</td>\n",
       "      <td>1212</td>\n",
       "      <td>BRL / 월</td>\n",
       "    </tr>\n",
       "    <tr>\n",
       "      <th>3</th>\n",
       "      <td>캐나다</td>\n",
       "      <td>15</td>\n",
       "      <td>15.5</td>\n",
       "      <td>CAD / 시간</td>\n",
       "    </tr>\n",
       "    <tr>\n",
       "      <th>4</th>\n",
       "      <td>중국</td>\n",
       "      <td>2590</td>\n",
       "      <td>2590</td>\n",
       "      <td>CNY / 월</td>\n",
       "    </tr>\n",
       "    <tr>\n",
       "      <th>5</th>\n",
       "      <td>프랑스</td>\n",
       "      <td>1603</td>\n",
       "      <td>1646</td>\n",
       "      <td>EUR / 월</td>\n",
       "    </tr>\n",
       "    <tr>\n",
       "      <th>6</th>\n",
       "      <td>독일</td>\n",
       "      <td>10.45</td>\n",
       "      <td>12</td>\n",
       "      <td>EUR / 시간</td>\n",
       "    </tr>\n",
       "    <tr>\n",
       "      <th>7</th>\n",
       "      <td>인도</td>\n",
       "      <td>178</td>\n",
       "      <td>178</td>\n",
       "      <td>INR / 일</td>\n",
       "    </tr>\n",
       "    <tr>\n",
       "      <th>8</th>\n",
       "      <td>인도네시아</td>\n",
       "      <td>4.42</td>\n",
       "      <td>4.64</td>\n",
       "      <td>IDR - 백만 / 월</td>\n",
       "    </tr>\n",
       "    <tr>\n",
       "      <th>9</th>\n",
       "      <td>일본</td>\n",
       "      <td>902</td>\n",
       "      <td>930</td>\n",
       "      <td>JPY / 시간</td>\n",
       "    </tr>\n",
       "    <tr>\n",
       "      <th>10</th>\n",
       "      <td>멕시코</td>\n",
       "      <td>173</td>\n",
       "      <td>173</td>\n",
       "      <td>MXN / 일</td>\n",
       "    </tr>\n",
       "    <tr>\n",
       "      <th>11</th>\n",
       "      <td>네덜란드</td>\n",
       "      <td>1725</td>\n",
       "      <td>1756</td>\n",
       "      <td>EUR / 월</td>\n",
       "    </tr>\n",
       "    <tr>\n",
       "      <th>12</th>\n",
       "      <td>러시아</td>\n",
       "      <td>13890</td>\n",
       "      <td>15279</td>\n",
       "      <td>RUB / 월</td>\n",
       "    </tr>\n",
       "    <tr>\n",
       "      <th>13</th>\n",
       "      <td>남아프리카 공화국</td>\n",
       "      <td>21.69</td>\n",
       "      <td>23.19</td>\n",
       "      <td>ZAR/시간</td>\n",
       "    </tr>\n",
       "    <tr>\n",
       "      <th>14</th>\n",
       "      <td>대한민국</td>\n",
       "      <td>8720</td>\n",
       "      <td>9160</td>\n",
       "      <td>원 / 시간</td>\n",
       "    </tr>\n",
       "    <tr>\n",
       "      <th>15</th>\n",
       "      <td>스페인</td>\n",
       "      <td>1108</td>\n",
       "      <td>1126</td>\n",
       "      <td>EUR / 월</td>\n",
       "    </tr>\n",
       "    <tr>\n",
       "      <th>16</th>\n",
       "      <td>터키</td>\n",
       "      <td>5008</td>\n",
       "      <td>5008</td>\n",
       "      <td>/ 월 TRY</td>\n",
       "    </tr>\n",
       "    <tr>\n",
       "      <th>17</th>\n",
       "      <td>연합 왕국</td>\n",
       "      <td>8.91</td>\n",
       "      <td>9.5</td>\n",
       "      <td>GBP / 시간</td>\n",
       "    </tr>\n",
       "    <tr>\n",
       "      <th>18</th>\n",
       "      <td>미국</td>\n",
       "      <td>7.25</td>\n",
       "      <td>7.25</td>\n",
       "      <td>USD / 시간</td>\n",
       "    </tr>\n",
       "  </tbody>\n",
       "</table>\n",
       "</div>"
      ],
      "text/plain": [
       "           국가     이전     현재            단위\n",
       "0       아르헨티나  45450  47850       ARS / 월\n",
       "1          호주    773    812       AUD / 주\n",
       "2         브라질   1212   1212       BRL / 월\n",
       "3         캐나다     15   15.5      CAD / 시간\n",
       "4          중국   2590   2590       CNY / 월\n",
       "5         프랑스   1603   1646       EUR / 월\n",
       "6          독일  10.45     12      EUR / 시간\n",
       "7          인도    178    178       INR / 일\n",
       "8       인도네시아   4.42   4.64  IDR - 백만 / 월\n",
       "9          일본    902    930      JPY / 시간\n",
       "10        멕시코    173    173       MXN / 일\n",
       "11       네덜란드   1725   1756       EUR / 월\n",
       "12        러시아  13890  15279       RUB / 월\n",
       "13  남아프리카 공화국  21.69  23.19        ZAR/시간\n",
       "14       대한민국   8720   9160        원 / 시간\n",
       "15        스페인   1108   1126       EUR / 월\n",
       "16         터키   5008   5008       / 월 TRY\n",
       "17      연합 왕국   8.91    9.5      GBP / 시간\n",
       "18         미국   7.25   7.25      USD / 시간"
      ]
     },
     "execution_count": 11,
     "metadata": {},
     "output_type": "execute_result"
    }
   ],
   "source": [
    "df"
   ]
  },
  {
   "cell_type": "code",
   "execution_count": 12,
   "id": "48f2ddea-36ff-48ff-9cdf-1ab0b2ba321a",
   "metadata": {},
   "outputs": [],
   "source": [
    "df.to_csv('./g20_최저시급_df.csv', index = False)"
   ]
  }
 ],
 "metadata": {
  "kernelspec": {
   "display_name": "Python 3 (ipykernel)",
   "language": "python",
   "name": "python3"
  },
  "language_info": {
   "codemirror_mode": {
    "name": "ipython",
    "version": 3
   },
   "file_extension": ".py",
   "mimetype": "text/x-python",
   "name": "python",
   "nbconvert_exporter": "python",
   "pygments_lexer": "ipython3",
   "version": "3.9.12"
  },
  "vscode": {
   "interpreter": {
    "hash": "610a6f344c2137faf927ea819c63f6cee33a2c04455044b28099f39fe9722347"
   }
  }
 },
 "nbformat": 4,
 "nbformat_minor": 5
}
